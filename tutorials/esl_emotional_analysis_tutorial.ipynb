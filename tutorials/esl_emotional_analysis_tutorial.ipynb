{
 "cells": [
  {
   "cell_type": "markdown",
   "metadata": {},
   "source": [
    "# ESL Emotional Analysis Tutorial\n",
    "\n",
    "This tutorial demonstrates SIM-ONE's Emotional State Layer (ESL) protocol for analyzing emotional content in text using multi-dimensional emotion detection.\n",
    "\n",
    "## What You'll Learn\n",
    "- Analyze emotional content with primary, social, and cognitive emotions\n",
    "- Track emotional progression across conversations\n",
    "- Generate empathetic response recommendations\n",
    "\n",
    "## Key Concepts\n",
    "- **Primary Emotions**: Joy, sadness, anger, fear, surprise, disgust\n",
    "- **Social Emotions**: Pride, shame, guilt, empathy\n",
    "- **Cognitive Emotions**: Curiosity, confusion, frustration\n",
    "- **Emotional Valence**: Positive/negative orientation (-1 to +1)\n",
    "- **Emotional Intensity**: Strength of emotion (0 to 1)"
   ]
  },
  {
   "cell_type": "code",
   "execution_count": null,
   "metadata": {},
   "outputs": [],
   "source": "# Standard library imports\nimport sys\nimport json\nfrom pathlib import Path\nfrom typing import Dict, Any, Optional, List\nimport pandas as pd\nimport matplotlib.pyplot as plt\nimport seaborn as sns\n\n# Add SIM-ONE to Python path\nSIMONE_ROOT = Path(\"../code\").resolve()\nsys.path.insert(0, str(SIMONE_ROOT))\n\n# Import ESL protocol directly\nfrom mcp_server.protocols.esl.esl import ESL\n\n# Configure plotting\n%matplotlib inline\nsns.set_style(\"whitegrid\")\nplt.rcParams['figure.figsize'] = (10, 6)\n\nprint(\"✓ Setup complete\")"
  },
  {
   "cell_type": "code",
   "execution_count": null,
   "metadata": {},
   "outputs": [],
   "source": [
    "# Initialize ESL protocol\n",
    "esl = ESL()\n",
    "\n",
    "print(\"✓ ESL Protocol Initialized\")\n",
    "print(f\"  Supports primary, social, and cognitive emotions\")"
   ]
  },
  {
   "cell_type": "markdown",
   "metadata": {},
   "source": [
    "## Example 1: Basic Emotion Analysis\n",
    "\n",
    "Analyze a simple text to detect emotional content, valence, and intensity."
   ]
  },
  {
   "cell_type": "code",
   "execution_count": null,
   "metadata": {},
   "outputs": [],
   "source": [
    "# Text to analyze\n",
    "text = \"I'm so excited about this new project! It's going to be amazing.\"\n",
    "\n",
    "# Analyze emotion using ESL protocol directly\n",
    "result = esl.process({\n",
    "    \"text\": text,\n",
    "    \"format\": \"json\"\n",
    "})\n",
    "\n",
    "# Display results\n",
    "print(json.dumps(result, indent=2))\n",
    "\n",
    "# Extract key metrics\n",
    "emotional_state = result.get(\"emotional_state\", {})\n",
    "print(f\"\\nPrimary Emotion: {emotional_state.get('primary_emotion')}\")\n",
    "print(f\"Valence: {emotional_state.get('valence', 0):.2f} (positive)\")\n",
    "print(f\"Intensity: {emotional_state.get('intensity', 0):.2f}\")"
   ]
  },
  {
   "cell_type": "markdown",
   "metadata": {},
   "source": [
    "## Example 2: Negative Emotion Detection"
   ]
  },
  {
   "cell_type": "code",
   "execution_count": null,
   "metadata": {},
   "outputs": [],
   "source": [
    "text = \"This is frustrating. Nothing is working as expected.\"\n",
    "\n",
    "result = esl.process({\"text\": text, \"format\": \"json\"})\n",
    "emotional_state = result.get(\"emotional_state\", {})\n",
    "\n",
    "print(f\"Primary Emotion: {emotional_state.get('primary_emotion')}\")\n",
    "print(f\"Secondary Emotions: {', '.join(emotional_state.get('secondary_emotions', []))}\")\n",
    "print(f\"Valence: {emotional_state.get('valence', 0):.2f} (negative)\")\n",
    "print(f\"Intensity: {emotional_state.get('intensity', 0):.2f}\")"
   ]
  },
  {
   "cell_type": "markdown",
   "metadata": {},
   "source": [
    "## Example 3: Mixed Emotional States\n",
    "\n",
    "Texts often contain multiple simultaneous emotions."
   ]
  },
  {
   "cell_type": "code",
   "execution_count": null,
   "metadata": {},
   "outputs": [],
   "source": [
    "text = \"I'm proud of what we accomplished, but worried about the timeline.\"\n",
    "\n",
    "result = esl.process({\"text\": text, \"format\": \"json\"})\n",
    "emotional_state = result.get(\"emotional_state\", {})\n",
    "\n",
    "print(f\"Primary Emotion: {emotional_state.get('primary_emotion')}\")\n",
    "print(f\"Secondary Emotions: {emotional_state.get('secondary_emotions', [])}\")\n",
    "print(f\"Valence: {emotional_state.get('valence', 0):.2f}\")\n",
    "print(f\"Cognitive State: {emotional_state.get('cognitive_indicators', [])}\")"
   ]
  },
  {
   "cell_type": "markdown",
   "metadata": {},
   "source": [
    "## Example 4: Neutral Text"
   ]
  },
  {
   "cell_type": "code",
   "execution_count": null,
   "metadata": {},
   "outputs": [],
   "source": [
    "text = \"The meeting is scheduled for 3 PM in conference room B.\"\n",
    "\n",
    "result = esl.process({\"text\": text, \"format\": \"json\"})\n",
    "emotional_state = result.get(\"emotional_state\", {})\n",
    "\n",
    "print(f\"Primary Emotion: {emotional_state.get('primary_emotion')}\")\n",
    "print(f\"Valence: {emotional_state.get('valence', 0):.2f} (neutral)\")\n",
    "print(f\"Intensity: {emotional_state.get('intensity', 0):.2f}\")"
   ]
  },
  {
   "cell_type": "markdown",
   "metadata": {},
   "source": [
    "## Example 5: High Intensity Emotion"
   ]
  },
  {
   "cell_type": "code",
   "execution_count": null,
   "metadata": {},
   "outputs": [],
   "source": [
    "text = \"I can't believe this happened! This is absolutely devastating!\"\n",
    "\n",
    "result = esl.process({\"text\": text, \"format\": \"json\"})\n",
    "emotional_state = result.get(\"emotional_state\", {})\n",
    "\n",
    "print(f\"Primary Emotion: {emotional_state.get('primary_emotion')}\")\n",
    "print(f\"Valence: {emotional_state.get('valence', 0):.2f}\")\n",
    "print(f\"Intensity: {emotional_state.get('intensity', 0):.2f} (high intensity)\")"
   ]
  },
  {
   "cell_type": "markdown",
   "metadata": {},
   "source": [
    "## Example 6: Social Emotions (Pride, Shame, Guilt)"
   ]
  },
  {
   "cell_type": "code",
   "execution_count": null,
   "metadata": {},
   "outputs": [],
   "source": [
    "text = \"I feel guilty for letting the team down. I should have caught that error.\"\n",
    "\n",
    "result = esl.process({\"text\": text, \"format\": \"json\"})\n",
    "emotional_state = result.get(\"emotional_state\", {})\n",
    "\n",
    "print(f\"Primary Emotion: {emotional_state.get('primary_emotion')}\")\n",
    "print(f\"Secondary Emotions: {emotional_state.get('secondary_emotions', [])}\")\n",
    "print(f\"Social Indicators: {emotional_state.get('social_emotions', [])}\")\n",
    "print(f\"Valence: {emotional_state.get('valence', 0):.2f}\")"
   ]
  },
  {
   "cell_type": "markdown",
   "metadata": {},
   "source": [
    "## Example 7: Curiosity and Cognitive Emotions"
   ]
  },
  {
   "cell_type": "code",
   "execution_count": null,
   "metadata": {},
   "outputs": [],
   "source": [
    "text = \"I'm curious about how this algorithm works. Can you explain the logic?\"\n",
    "\n",
    "result = esl.process({\"text\": text, \"format\": \"json\"})\n",
    "emotional_state = result.get(\"emotional_state\", {})\n",
    "\n",
    "print(f\"Primary Emotion: {emotional_state.get('primary_emotion')}\")\n",
    "print(f\"Cognitive Indicators: {emotional_state.get('cognitive_indicators', [])}\")\n",
    "print(f\"Valence: {emotional_state.get('valence', 0):.2f}\")\n",
    "print(f\"Intensity: {emotional_state.get('intensity', 0):.2f}\")"
   ]
  },
  {
   "cell_type": "markdown",
   "metadata": {},
   "source": [
    "## Example 8: Batch Analysis - Emotional Progression\n",
    "\n",
    "Track how emotions change across a conversation or sequence of texts."
   ]
  },
  {
   "cell_type": "code",
   "execution_count": null,
   "metadata": {},
   "outputs": [],
   "source": [
    "# Conversation sequence\n",
    "texts = [\n",
    "    \"I'm excited to start this project!\",\n",
    "    \"We hit some roadblocks today, feeling a bit discouraged.\",\n",
    "    \"After the team meeting, I feel more hopeful about finding solutions.\",\n",
    "    \"Success! We solved the problem. Feeling accomplished.\",\n",
    "]\n",
    "\n",
    "# Analyze each text in sequence\n",
    "results = []\n",
    "for i, text in enumerate(texts, 1):\n",
    "    result = esl.process({\"text\": text, \"format\": \"json\"})\n",
    "    emotional_state = result.get(\"emotional_state\", {})\n",
    "    \n",
    "    results.append({\n",
    "        \"step\": i,\n",
    "        \"text_preview\": text[:50],\n",
    "        \"emotion\": emotional_state.get(\"primary_emotion\", \"neutral\"),\n",
    "        \"valence\": emotional_state.get(\"valence\", 0),\n",
    "        \"intensity\": emotional_state.get(\"intensity\", 0)\n",
    "    })\n",
    "\n",
    "# Create DataFrame for visualization\n",
    "df = pd.DataFrame(results)\n",
    "print(df.to_string(index=False))\n",
    "\n",
    "# Visualize emotional progression\n",
    "fig, (ax1, ax2) = plt.subplots(2, 1, figsize=(10, 8))\n",
    "\n",
    "# Valence over time\n",
    "ax1.plot(df[\"step\"], df[\"valence\"], marker='o', linewidth=2, markersize=8)\n",
    "ax1.axhline(y=0, color='gray', linestyle='--', alpha=0.5)\n",
    "ax1.set_ylabel(\"Valence\", fontsize=12)\n",
    "ax1.set_title(\"Emotional Valence Progression\", fontsize=14)\n",
    "ax1.grid(True, alpha=0.3)\n",
    "\n",
    "# Intensity over time\n",
    "ax2.plot(df[\"step\"], df[\"intensity\"], marker='s', linewidth=2, markersize=8, color='orange')\n",
    "ax2.set_xlabel(\"Conversation Step\", fontsize=12)\n",
    "ax2.set_ylabel(\"Intensity\", fontsize=12)\n",
    "ax2.set_title(\"Emotional Intensity Progression\", fontsize=14)\n",
    "ax2.grid(True, alpha=0.3)\n",
    "\n",
    "plt.tight_layout()\n",
    "plt.savefig(\"emotional_progression.png\", dpi=150, bbox_inches='tight')\n",
    "plt.show()\n",
    "\n",
    "print(f\"\\n📊 Emotional arc: {df['emotion'].tolist()}\")"
   ]
  },
  {
   "cell_type": "markdown",
   "metadata": {},
   "source": [
    "## Example 9: Format Options"
   ]
  },
  {
   "cell_type": "code",
   "execution_count": null,
   "metadata": {},
   "outputs": [],
   "source": [
    "# JSON format (default)\n",
    "result_json = esl.process({\"text\": \"This is wonderful!\", \"format\": \"json\"})\n",
    "print(\"JSON Format:\")\n",
    "print(json.dumps(result_json, indent=2))\n",
    "\n",
    "# Summary format\n",
    "result_summary = esl.process({\"text\": \"This is wonderful!\", \"format\": \"summary\"})\n",
    "print(\"\\nSummary Format:\")\n",
    "print(result_summary.get(\"summary\", \"\"))"
   ]
  },
  {
   "cell_type": "markdown",
   "metadata": {},
   "source": [
    "## Example 10: Empathetic Response Recommendation\n",
    "\n",
    "Generate appropriate response tones based on detected emotions."
   ]
  },
  {
   "cell_type": "code",
   "execution_count": null,
   "metadata": {},
   "outputs": [],
   "source": [
    "def generate_empathetic_response(text: str) -> Dict[str, Any]:\n",
    "    \"\"\"\n",
    "    Analyze user emotion and recommend appropriate response tone.\n",
    "    \"\"\"\n",
    "    # Analyze emotion\n",
    "    result = esl.process({\"text\": text, \"format\": \"json\"})\n",
    "    emotional_state = result.get(\"emotional_state\", {})\n",
    "    \n",
    "    emotion = emotional_state.get(\"primary_emotion\", \"neutral\")\n",
    "    valence = emotional_state.get(\"valence\", 0)\n",
    "    intensity = emotional_state.get(\"intensity\", 0)\n",
    "    \n",
    "    # Determine response tone\n",
    "    if valence < 0 and intensity > 0.7:\n",
    "        response_tone = \"empathetic\"\n",
    "        recommendation = \"Use warm, understanding language. Acknowledge their feelings.\"\n",
    "    elif valence > 0:\n",
    "        response_tone = \"encouraging\"\n",
    "        recommendation = \"Match their positive energy. Celebrate their emotion.\"\n",
    "    elif \"confusion\" in emotional_state.get(\"cognitive_indicators\", []):\n",
    "        response_tone = \"clear_explanatory\"\n",
    "        recommendation = \"Provide clear, structured explanations. Break down complex ideas.\"\n",
    "    else:\n",
    "        response_tone = \"neutral_supportive\"\n",
    "        recommendation = \"Maintain professional, supportive tone.\"\n",
    "    \n",
    "    return {\n",
    "        \"user_emotion\": emotion,\n",
    "        \"valence\": valence,\n",
    "        \"intensity\": intensity,\n",
    "        \"recommended_tone\": response_tone,\n",
    "        \"recommendation\": recommendation\n",
    "    }\n",
    "\n",
    "# Test cases\n",
    "test_cases = [\n",
    "    \"I'm really struggling with this. Nothing makes sense anymore.\",\n",
    "    \"This is fantastic! Everything is going so well!\",\n",
    "    \"I don't understand how this works. Can you explain?\",\n",
    "    \"Just checking the status of my request.\",\n",
    "]\n",
    "\n",
    "print(\"Empathetic Response Recommendations:\")\n",
    "print(\"=\" * 80)\n",
    "for text in test_cases:\n",
    "    result = generate_empathetic_response(text)\n",
    "    print(f\"\\nUser: \\\"{text}\\\"\")\n",
    "    print(f\"Detected Emotion: {result['user_emotion']} (valence: {result['valence']:.2f}, intensity: {result['intensity']:.2f})\")\n",
    "    print(f\"Recommended Tone: {result['recommended_tone']}\")\n",
    "    print(f\"Guidance: {result['recommendation']}\")"
   ]
  },
  {
   "cell_type": "markdown",
   "metadata": {},
   "source": [
    "## Example 11: Analyzing Text from Files"
   ]
  },
  {
   "cell_type": "code",
   "execution_count": null,
   "metadata": {},
   "outputs": [],
   "source": [
    "# Create sample file\n",
    "sample_file = Path(\"sample_text.txt\")\n",
    "sample_file.write_text(\"I'm feeling overwhelmed by all these tasks.\")\n",
    "\n",
    "# Read and analyze\n",
    "text = sample_file.read_text()\n",
    "result = esl.process({\"text\": text, \"format\": \"json\"})\n",
    "emotional_state = result.get(\"emotional_state\", {})\n",
    "\n",
    "print(f\"File: {sample_file}\")\n",
    "print(f\"Emotion: {emotional_state.get('primary_emotion')}\")\n",
    "print(f\"Valence: {emotional_state.get('valence', 0):.2f}\")\n",
    "\n",
    "# Cleanup\n",
    "sample_file.unlink()\n",
    "print(\"\\n✓ File analyzed and cleaned up\")"
   ]
  },
  {
   "cell_type": "markdown",
   "metadata": {},
   "source": [
    "## Summary\n",
    "\n",
    "This tutorial demonstrated SIM-ONE's ESL protocol for emotional analysis:\n",
    "\n",
    "### Key Capabilities\n",
    "1. **Multi-dimensional emotion detection** - Primary, social, and cognitive emotions\n",
    "2. **Emotional progression tracking** - Monitor changes across conversations\n",
    "3. **Response recommendations** - Generate appropriate empathetic responses\n",
    "\n",
    "### When to Use ESL\n",
    "- Customer support systems - Adjust tone based on customer emotion\n",
    "- Mental health applications - Track emotional states over time\n",
    "- Content moderation - Detect distress or harmful emotional patterns\n",
    "- Conversational AI - Generate emotionally appropriate responses\n",
    "\n",
    "### API Reference\n",
    "```python\n",
    "from mcp_server.protocols.esl.esl import ESL\n",
    "\n",
    "esl = ESL()\n",
    "result = esl.process({\n",
    "    \"text\": \"Text to analyze\",\n",
    "    \"format\": \"json\"  # or \"summary\"\n",
    "})\n",
    "```\n",
    "\n",
    "### Output Structure\n",
    "```json\n",
    "{\n",
    "  \"emotional_state\": {\n",
    "    \"primary_emotion\": \"joy\",\n",
    "    \"secondary_emotions\": [\"excitement\"],\n",
    "    \"valence\": 0.85,\n",
    "    \"intensity\": 0.92,\n",
    "    \"cognitive_indicators\": [\"enthusiasm\"]\n",
    "  }\n",
    "}\n",
    "```"
   ]
  }
 ],
 "metadata": {
  "kernelspec": {
   "display_name": "Python 3",
   "language": "python",
   "name": "python3"
  },
  "language_info": {
   "codemirror_mode": {
    "name": "ipython",
    "version": 3
   },
   "file_extension": ".py",
   "mimetype": "text/x-python",
   "name": "python",
   "nbconvert_exporter": "python",
   "pygments_lexer": "ipython3",
   "version": "3.8.0"
  }
 },
 "nbformat": 4,
 "nbformat_minor": 4
}