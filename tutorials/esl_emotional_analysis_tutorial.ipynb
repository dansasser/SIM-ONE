{
 "cells": [
  {
   "cell_type": "markdown",
   "metadata": {},
   "source": [
    "# ESL - Emotional State Layer Protocol Tutorial\n",
    "\n",
    "This tutorial demonstrates how to use the ESL (Emotional State Layer) tool for sophisticated emotional intelligence analysis.\n",
    "\n",
    "## Overview\n",
    "\n",
    "ESL provides multi-dimensional emotion detection across three categories:\n",
    "1. **Primary Emotions**: joy, sadness, anger, fear, surprise, disgust\n",
    "2. **Social Emotions**: gratitude, empathy, pride, guilt, envy\n",
    "3. **Cognitive Emotions**: hope, curiosity, confusion, confidence, doubt\n",
    "\n",
    "The tool analyzes:\n",
    "- Emotional state and valence (positive/negative/neutral/mixed)\n",
    "- Intensity and confidence scores\n",
    "- Contextual factors (questions, negations, temporal indicators)\n",
    "- Emotional salience"
   ]
  },
  {
   "cell_type": "markdown",
   "metadata": {},
   "source": [
    "## Setup"
   ]
  },
  {
   "cell_type": "code",
   "execution_count": null,
   "metadata": {},
   "outputs": [],
   "source": [
    "import subprocess\n",
    "import json\n",
    "from pathlib import Path\n",
    "\n",
    "TOOL_PATH = Path(\"../code/tools/run_esl_tool.py\")\n",
    "\n",
    "def analyze_emotion(text, format=\"json\"):\n",
    "    \"\"\"Helper function to analyze emotional content\"\"\"\n",
    "    result = subprocess.run(\n",
    "        [\"python\", str(TOOL_PATH), \"--text\", text, \"--format\", format],\n",
    "        capture_output=True,\n",
    "        text=True\n",
    "    )\n",
    "    return json.loads(result.stdout) if format == \"json\" else result.stdout"
   ]
  },
  {
   "cell_type": "markdown",
   "metadata": {},
   "source": [
    "## Example 1: Basic Emotion Detection\n",
    "\n",
    "Analyzing a simple emotional statement."
   ]
  },
  {
   "cell_type": "code",
   "execution_count": null,
   "metadata": {},
   "outputs": [],
   "source": [
    "text = \"I'm absolutely thrilled about this amazing opportunity!\"\n",
    "\n",
    "result = analyze_emotion(text)\n",
    "\n",
    "print(f\"Text: {text}\\n\")\n",
    "print(f\"Emotional State: {result['emotional_state']}\")\n",
    "print(f\"Valence: {result['valence']}\")\n",
    "print(f\"Intensity: {result['intensity']:.2f}\")\n",
    "print(f\"Confidence: {result['confidence']:.2f}\")\n",
    "print(f\"\\nDetected Emotions:\")\n",
    "for emotion in result['detected_emotions']:\n",
    "    print(f\"  - {emotion['emotion']}: {emotion['intensity']:.2f} ({emotion['dimension']} emotion)\")"
   ]
  },
  {
   "cell_type": "markdown",
   "metadata": {},
   "source": [
    "## Example 2: Negative Emotion Analysis\n",
    "\n",
    "Detecting sadness and related emotions."
   ]
  },
  {
   "cell_type": "code",
   "execution_count": null,
   "metadata": {},
   "outputs": [],
   "source": [
    "text = \"I'm feeling really disappointed and discouraged about the results.\"\n",
    "\n",
    "result = analyze_emotion(text)\n",
    "\n",
    "print(f\"Text: {text}\\n\")\n",
    "print(f\"Emotional State: {result['emotional_state']}\")\n",
    "print(f\"Valence: {result['valence']}\")\n",
    "print(f\"Intensity: {result['intensity']:.2f}\")\n",
    "print(f\"\\nAll Detected Emotions:\")\n",
    "for emotion in result['detected_emotions']:\n",
    "    print(f\"  - {emotion['emotion']}: intensity={emotion['intensity']:.2f}, valence={emotion['valence']}\")"
   ]
  },
  {
   "cell_type": "markdown",
   "metadata": {},
   "source": [
    "## Example 3: Mixed Emotions\n",
    "\n",
    "Analyzing text with conflicting emotional signals."
   ]
  },
  {
   "cell_type": "code",
   "execution_count": null,
   "metadata": {},
   "outputs": [],
   "source": [
    "text = \"I'm excited about the new job, but I'm also nervous about leaving my current team.\"\n",
    "\n",
    "result = analyze_emotion(text)\n",
    "\n",
    "print(f\"Text: {text}\\n\")\n",
    "print(f\"Emotional State: {result['emotional_state']}\")\n",
    "print(f\"Valence: {result['valence']}\")\n",
    "print(f\"\\nMixed Emotions Detected:\")\n",
    "for emotion in result['detected_emotions']:\n",
    "    print(f\"  - {emotion['emotion']}: {emotion['intensity']:.2f} ({emotion['valence']})\")"
   ]
  },
  {
   "cell_type": "markdown",
   "metadata": {},
   "source": [
    "## Example 4: Social Emotions\n",
    "\n",
    "Detecting gratitude, empathy, and other social emotions."
   ]
  },
  {
   "cell_type": "code",
   "execution_count": null,
   "metadata": {},
   "outputs": [],
   "source": [
    "text = \"Thank you so much for your help! I really appreciate your support during this difficult time.\"\n",
    "\n",
    "result = analyze_emotion(text)\n",
    "\n",
    "print(f\"Text: {text}\\n\")\n",
    "print(f\"Emotional State: {result['emotional_state']}\")\n",
    "print(f\"\\nSocial Emotions:\")\n",
    "for emotion in result['detected_emotions']:\n",
    "    if emotion.get('dimension') == 'social':\n",
    "        print(f\"  - {emotion['emotion']}: {emotion['intensity']:.2f}\")"
   ]
  },
  {
   "cell_type": "markdown",
   "metadata": {},
   "source": [
    "## Example 5: Cognitive Emotions\n",
    "\n",
    "Analyzing curiosity, confusion, and other cognitive states."
   ]
  },
  {
   "cell_type": "code",
   "execution_count": null,
   "metadata": {},
   "outputs": [],
   "source": [
    "text = \"I'm confused about how this works. Can you explain it again?\"\n",
    "\n",
    "result = analyze_emotion(text)\n",
    "\n",
    "print(f\"Text: {text}\\n\")\n",
    "print(f\"Emotional State: {result['emotional_state']}\")\n",
    "print(f\"\\nCognitive Emotions:\")\n",
    "for emotion in result['detected_emotions']:\n",
    "    if emotion.get('dimension') == 'cognitive':\n",
    "        print(f\"  - {emotion['emotion']}: {emotion['intensity']:.2f}\")\n",
    "\n",
    "if 'contextual_factors' in result:\n",
    "    print(f\"\\nContextual Factors:\")\n",
    "    print(f\"  Is Question: {result['contextual_factors'].get('is_question', False)}\")"
   ]
  },
  {
   "cell_type": "markdown",
   "metadata": {},
   "source": [
    "## Example 6: Intensity Variations\n",
    "\n",
    "Comparing different intensity levels of the same emotion."
   ]
  },
  {
   "cell_type": "code",
   "execution_count": null,
   "metadata": {},
   "outputs": [],
   "source": [
    "texts = [\n",
    "    \"I'm happy.\",\n",
    "    \"I'm very happy!\",\n",
    "    \"I'm absolutely ecstatic and overjoyed!\"\n",
    "]\n",
    "\n",
    "print(\"Intensity Comparison:\\n\")\n",
    "for text in texts:\n",
    "    result = analyze_emotion(text)\n",
    "    print(f\"Text: {text}\")\n",
    "    print(f\"  Intensity: {result['intensity']:.2f}\")\n",
    "    print(f\"  Confidence: {result['confidence']:.2f}\")\n",
    "    print()"
   ]
  },
  {
   "cell_type": "markdown",
   "metadata": {},
   "source": [
    "## Example 7: Contextual Factors\n",
    "\n",
    "Understanding how context affects emotional analysis."
   ]
  },
  {
   "cell_type": "code",
   "execution_count": null,
   "metadata": {},
   "outputs": [],
   "source": [
    "text = \"I'm not really happy about this decision.\"\n",
    "\n",
    "result = analyze_emotion(text)\n",
    "\n",
    "print(f\"Text: {text}\\n\")\n",
    "print(f\"Emotional State: {result['emotional_state']}\")\n",
    "print(f\"Valence: {result['valence']}\")\n",
    "\n",
    "if 'contextual_factors' in result:\n",
    "    print(f\"\\nContextual Factors:\")\n",
    "    factors = result['contextual_factors']\n",
    "    print(f\"  Has Negation: {factors.get('has_negation', False)}\")\n",
    "    print(f\"  Intensifiers: {factors.get('intensifiers', [])}\")\n",
    "    print(f\"  Diminishers: {factors.get('diminishers', [])}\")"
   ]
  },
  {
   "cell_type": "markdown",
   "metadata": {},
   "source": [
    "## Example 8: Batch Emotion Analysis\n",
    "\n",
    "Analyzing multiple user messages to track emotional progression."
   ]
  },
  {
   "cell_type": "code",
   "execution_count": null,
   "metadata": {},
   "outputs": [],
   "source": [
    "conversation = [\n",
    "    \"I'm having trouble with this task.\",\n",
    "    \"Thanks for the help! I'm starting to understand.\",\n",
    "    \"Great! I got it working now. I'm so relieved!\"\n",
    "]\n",
    "\n",
    "print(\"Emotional Progression in Conversation:\\n\")\n",
    "for i, text in enumerate(conversation, 1):\n",
    "    result = analyze_emotion(text)\n",
    "    print(f\"Message {i}: {text}\")\n",
    "    print(f\"  Emotion: {result['emotional_state']}\")\n",
    "    print(f\"  Valence: {result['valence']}\")\n",
    "    print(f\"  Intensity: {result['intensity']:.2f}\")\n",
    "    print()"
   ]
  },
  {
   "cell_type": "markdown",
   "metadata": {},
   "source": [
    "## Example 9: Summary Format\n",
    "\n",
    "Using the human-readable summary format."
   ]
  },
  {
   "cell_type": "code",
   "execution_count": null,
   "metadata": {},
   "outputs": [],
   "source": [
    "text = \"I'm curious to learn more about this fascinating topic!\"\n",
    "\n",
    "summary = analyze_emotion(text, format=\"summary\")\n",
    "print(summary)"
   ]
  },
  {
   "cell_type": "markdown",
   "metadata": {},
   "source": [
    "## Example 10: Command-Line Usage\n",
    "\n",
    "ESL can be used directly from the command line."
   ]
  },
  {
   "cell_type": "code",
   "execution_count": null,
   "metadata": {},
   "outputs": [],
   "source": [
    "# Using command line with text argument\n",
    "!python ../code/tools/run_esl_tool.py --text \"I'm feeling anxious about the presentation tomorrow.\" --format summary"
   ]
  },
  {
   "cell_type": "code",
   "execution_count": null,
   "metadata": {},
   "outputs": [],
   "source": [
    "# Using stdin pipe\n",
    "!echo \"I'm proud of what we accomplished together!\" | python ../code/tools/run_esl_tool.py --format summary"
   ]
  },
  {
   "cell_type": "markdown",
   "metadata": {},
   "source": [
    "## Example 11: Integration with AI Response System\n",
    "\n",
    "Using ESL to create emotionally-aware AI responses."
   ]
  },
  {
   "cell_type": "code",
   "execution_count": null,
   "metadata": {},
   "outputs": [],
   "source": [
    "def generate_empathetic_response(user_input):\n",
    "    \"\"\"\n",
    "    Analyze user emotion and generate appropriate response\n",
    "    \"\"\"\n",
    "    # Analyze user's emotional state\n",
    "    emotion_analysis = analyze_emotion(user_input)\n",
    "    \n",
    "    emotional_state = emotion_analysis['emotional_state']\n",
    "    valence = emotion_analysis['valence']\n",
    "    intensity = emotion_analysis['intensity']\n",
    "    \n",
    "    print(f\"User Input: {user_input}\")\n",
    "    print(f\"\\nDetected Emotion: {emotional_state}\")\n",
    "    print(f\"Valence: {valence}\")\n",
    "    print(f\"Intensity: {intensity:.2f}\")\n",
    "    \n",
    "    # Generate appropriate response based on emotion\n",
    "    if valence == 'negative' and intensity > 0.7:\n",
    "        response_tone = \"empathetic and supportive\"\n",
    "    elif valence == 'positive':\n",
    "        response_tone = \"enthusiastic and encouraging\"\n",
    "    elif emotional_state == 'confusion':\n",
    "        response_tone = \"clear and patient\"\n",
    "    else:\n",
    "        response_tone = \"neutral and informative\"\n",
    "    \n",
    "    print(f\"\\nRecommended Response Tone: {response_tone}\")\n",
    "    return response_tone\n",
    "\n",
    "# Test with different user inputs\n",
    "test_inputs = [\n",
    "    \"I'm really frustrated with this error.\",\n",
    "    \"This is amazing! Thank you!\",\n",
    "    \"I don't understand how this works.\"\n",
    "]\n",
    "\n",
    "for user_input in test_inputs:\n",
    "    generate_empathetic_response(user_input)\n",
    "    print(\"\\n\" + \"=\"*60 + \"\\n\")"
   ]
  },
  {
   "cell_type": "markdown",
   "metadata": {},
   "source": [
    "## Example 12: File Input\n",
    "\n",
    "Analyzing emotional content from files."
   ]
  },
  {
   "cell_type": "code",
   "execution_count": null,
   "metadata": {},
   "outputs": [],
   "source": [
    "# Create a sample user message file\n",
    "user_message = \"\"\"I'm feeling overwhelmed by all the tasks I need to complete. \n",
    "There's so much to do and I'm worried I won't finish on time.\"\"\"\n",
    "\n",
    "with open('/tmp/user_message.txt', 'w') as f:\n",
    "    f.write(user_message)\n",
    "\n",
    "# Analyze from file\n",
    "!python ../code/tools/run_esl_tool.py --file /tmp/user_message.txt --format summary"
   ]
  },
  {
   "cell_type": "markdown",
   "metadata": {},
   "source": [
    "## Conclusion\n",
    "\n",
    "The ESL tool provides sophisticated emotional intelligence capabilities. Key takeaways:\n",
    "\n",
    "- **Multi-dimensional**: Detects primary, social, and cognitive emotions\n",
    "- **Context-aware**: Considers negations, intensifiers, and questions\n",
    "- **Confidence scoring**: Provides reliability metrics for detections\n",
    "- **Valence analysis**: Identifies positive, negative, neutral, or mixed emotions\n",
    "- **Integration-ready**: Easy to incorporate into AI response systems\n",
    "\n",
    "## Use Cases\n",
    "\n",
    "- **Customer support**: Detect frustrated users and escalate appropriately\n",
    "- **Mental health**: Track emotional states over time\n",
    "- **Content moderation**: Identify toxic or harmful emotional content\n",
    "- **Chatbots**: Generate emotionally appropriate responses\n",
    "- **User experience**: Understand user satisfaction and engagement\n",
    "\n",
    "## Next Steps\n",
    "\n",
    "- Combine ESL with REP for emotion-aware reasoning\n",
    "- Use ESL with Five Laws Validator for emotionally-governed responses\n",
    "- Explore VVP for validating emotional analysis inputs\n",
    "- Read the full documentation at [PAPER2AGENT_INTEGRATION.md](../PAPER2AGENT_INTEGRATION.md)"
   ]
  }
 ],
 "metadata": {
  "kernelspec": {
   "display_name": "Python 3",
   "language": "python",
   "name": "python3"
  },
  "language_info": {
   "codemirror_mode": {
    "name": "ipython",
    "version": 3
   },
   "file_extension": ".py",
   "mimetype": "text/x-python",
   "name": "python",
   "nbconvert_exporter": "python",
   "pygments_lexer": "ipython3",
   "version": "3.9.0"
  }
 },
 "nbformat": 4,
 "nbformat_minor": 4
}

