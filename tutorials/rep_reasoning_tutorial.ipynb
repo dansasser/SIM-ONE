{
 "cells": [
  {
   "cell_type": "markdown",
   "metadata": {},
   "source": [
    "# REP - Reasoning and Explanation Protocol Tutorial\n",
    "\n",
    "This tutorial demonstrates how to use the REP (Reasoning and Explanation Protocol) tool for **advanced multi-modal reasoning**.\n",
    "\n",
    "## Overview\n",
    "\n",
    "REP uses the **AdvancedREP** class which provides:\n",
    "\n",
    "### Five Reasoning Types:\n",
    "1. **Deductive** - Logical inference with modus ponens and modus tollens\n",
    "2. **Inductive** - Pattern recognition and generalization from observations\n",
    "3. **Abductive** - Best explanation inference from observations\n",
    "4. **Analogical** - Similarity-based reasoning\n",
    "5. **Causal** - Cause-effect relationship analysis\n",
    "\n",
    "### Advanced Features:\n",
    "- **Confidence Scoring**: Each conclusion has a confidence level (0.0-1.0)\n",
    "- **Reasoning Chain**: Step-by-step logical progression\n",
    "- **Chain Validation**: Validates logical consistency of reasoning\n",
    "- **Forward Chaining**: Iterative deduction with confidence propagation\n",
    "- **Auto-Detection**: Can automatically select best reasoning type\n"
   ]
  },
  {
   "cell_type": "markdown",
   "metadata": {},
   "source": [
    "## Setup"
   ]
  },
  {
   "cell_type": "code",
   "execution_count": null,
   "metadata": {},
   "outputs": [],
   "source": [
    "import subprocess\n",
    "import json\n",
    "from pathlib import Path\n",
    "\n",
    "TOOL_PATH = Path(\"../code/tools/run_rep_tool.py\")\n",
    "\n",
    "def run_reasoning(reasoning_type, facts=None, rules=None, observations=None, hypotheses=None, context=None):\n",
    "    \"\"\"Helper function to run REP reasoning\"\"\"\n",
    "    data = {\"reasoning_type\": reasoning_type}\n",
    "    if facts:\n",
    "        data[\"facts\"] = facts\n",
    "    if rules:\n",
    "        data[\"rules\"] = rules\n",
    "    if observations:\n",
    "        data[\"observations\"] = observations\n",
    "    if hypotheses:\n",
    "        data[\"hypotheses\"] = hypotheses\n",
    "    if context:\n",
    "        data[\"context\"] = context\n",
    "    \n",
    "    result = subprocess.run(\n",
    "        [\"python\", str(TOOL_PATH), \"--json\", json.dumps(data)],\n",
    "        capture_output=True,\n",
    "        text=True\n",
    "    )\n",
    "    return json.loads(result.stdout)"
   ]
  },
  {
   "cell_type": "markdown",
   "metadata": {},
   "source": [
    "## Example 1: Deductive Reasoning\n",
    "\n",
    "Classic logical deduction using modus ponens."
   ]
  },
  {
   "cell_type": "code",
   "execution_count": null,
   "metadata": {},
   "outputs": [],
   "source": [
    "# Classic Socrates syllogism\n",
    "facts = [\n",
    "    \"Socrates is a man\",\n",
    "    \"All men are mortal\"\n",
    "]\n",
    "\n",
    "rules = [\n",
    "    [[\"Socrates is a man\", \"All men are mortal\"], \"Socrates is mortal\"]\n",
    "]\n",
    "\n",
    "result = run_reasoning(\"deductive\", facts=facts, rules=rules)\n",
    "\n",
    "print(\"Deductive Reasoning Result:\")\n",
    "print(f\"Conclusions: {result['conclusions']}\")\n",
    "print(f\"\\nExplanation: {result['explanation']}\")\n",
    "if 'confidence_scores' in result:\n",
    "    print(f\"\\nConfidence Scores: {result['confidence_scores']}\")"
   ]
  },
  {
   "cell_type": "markdown",
   "metadata": {},
   "source": [
    "## Example 1b: Advanced Deductive Reasoning with Confidence Scores\n",
    "\n",
    "The AdvancedREP class provides confidence scores for each conclusion."
   ]
  },
  {
   "cell_type": "code",
   "execution_count": null,
   "metadata": {},
   "outputs": [],
   "source": [
    "# Multi-step deduction with confidence propagation\n",
    "facts = [\n",
    "    \"All mammals are warm-blooded\",\n",
    "    \"All warm-blooded animals regulate temperature\",\n",
    "    \"Whales are mammals\"\n",
    "]\n",
    "\n",
    "rules = [\n",
    "    [[\"All mammals are warm-blooded\", \"Whales are mammals\"], \"Whales are warm-blooded\"],\n",
    "    [[\"All warm-blooded animals regulate temperature\", \"Whales are warm-blooded\"], \"Whales regulate temperature\"]\n",
    "]\n",
    "\n",
    "result = run_reasoning(\"deductive\", facts=facts, rules=rules)\n",
    "\n",
    "print(\"Advanced Deductive Reasoning with Confidence:\")\n",
    "print(f\"\\nConclusions: {result['conclusions']}\")\n",
    "print(f\"\\nConfidence Scores:\")\n",
    "for conclusion, confidence in result.get('confidence_scores', {}).items():\n",
    "    print(f\"  {conclusion}: {confidence:.2%}\")\n",
    "\n",
    "print(f\"\\nReasoning Chain ({len(result.get('reasoning_chain', []))} steps):\")\n",
    "for i, step in enumerate(result.get('reasoning_chain', []), 1):\n",
    "    print(f\"  Step {i}: {step}\")\n",
    "\n",
    "print(f\"\\nValidation: {result.get('validation', {})}\")"
   ]
  },
  {
   "cell_type": "markdown",
   "metadata": {},
   "source": [
    "## Example 2: Inductive Reasoning\n",
    "\n",
    "Pattern recognition from multiple observations."
   ]
  },
  {
   "cell_type": "code",
   "execution_count": null,
   "metadata": {},
   "outputs": [],
   "source": [
    "# Observing patterns to form generalizations\n",
    "observations = [\n",
    "    \"Swan 1 is white\",\n",
    "    \"Swan 2 is white\",\n",
    "    \"Swan 3 is white\",\n",
    "    \"Swan 4 is white\"\n",
    "]\n",
    "\n",
    "result = run_reasoning(\"inductive\", observations=observations)\n",
    "\n",
    "print(\"Inductive Reasoning Result:\")\n",
    "print(f\"Conclusions: {result['conclusions']}\")\n",
    "print(f\"\\nExplanation: {result['explanation']}\")\n",
    "if 'confidence_scores' in result:\n",
    "    print(f\"\\nConfidence: {result['confidence_scores']}\")"
   ]
  },
  {
   "cell_type": "markdown",
   "metadata": {},
   "source": [
    "## Example 3: Abductive Reasoning\n",
    "\n",
    "Finding the best explanation for observations."
   ]
  },
  {
   "cell_type": "code",
   "execution_count": null,
   "metadata": {},
   "outputs": [],
   "source": [
    "# Medical diagnosis scenario\n",
    "observations = [\n",
    "    \"Patient has fever\",\n",
    "    \"Patient has cough\",\n",
    "    \"Patient has fatigue\"\n",
    "]\n",
    "\n",
    "hypotheses = [\n",
    "    \"Patient has common cold\",\n",
    "    \"Patient has influenza\",\n",
    "    \"Patient has allergies\"\n",
    "]\n",
    "\n",
    "result = run_reasoning(\"abductive\", observations=observations, hypotheses=hypotheses)\n",
    "\n",
    "print(\"Abductive Reasoning Result:\")\n",
    "print(f\"Best Explanation: {result['conclusions']}\")\n",
    "print(f\"\\nExplanation: {result['explanation']}\")\n",
    "if 'confidence_scores' in result:\n",
    "    print(f\"\\nHypothesis Rankings:\")\n",
    "    for hyp, score in result['confidence_scores'].items():\n",
    "        print(f\"  {hyp}: {score:.2f}\")"
   ]
  },
  {
   "cell_type": "markdown",
   "metadata": {},
   "source": [
    "## Example 4: Analogical Reasoning\n",
    "\n",
    "Reasoning by similarity and analogy."
   ]
  },
  {
   "cell_type": "code",
   "execution_count": null,
   "metadata": {},
   "outputs": [],
   "source": [
    "# Analogy: \"The atom is like a solar system\"\n",
    "facts = [\n",
    "    \"Solar system has planets orbiting the sun\",\n",
    "    \"Atom has electrons orbiting the nucleus\",\n",
    "    \"Sun has gravitational force\",\n",
    "    \"Nucleus has electromagnetic force\"\n",
    "]\n",
    "\n",
    "context = \"Comparing atomic structure to solar system\"\n",
    "\n",
    "result = run_reasoning(\"analogical\", facts=facts, context=context)\n",
    "\n",
    "print(\"Analogical Reasoning Result:\")\n",
    "print(f\"Conclusions: {result['conclusions']}\")\n",
    "print(f\"\\nExplanation: {result['explanation']}\")"
   ]
  },
  {
   "cell_type": "markdown",
   "metadata": {},
   "source": [
    "## Example 5: Causal Reasoning\n",
    "\n",
    "Identifying cause-effect relationships."
   ]
  },
  {
   "cell_type": "code",
   "execution_count": null,
   "metadata": {},
   "outputs": [],
   "source": [
    "# Cause-effect analysis\n",
    "observations = [\n",
    "    \"Temperature increased\",\n",
    "    \"Ice melted\",\n",
    "    \"Water level rose\"\n",
    "]\n",
    "\n",
    "facts = [\n",
    "    \"Heat causes ice to melt\",\n",
    "    \"Melted ice becomes water\",\n",
    "    \"Water takes up volume\"\n",
    "]\n",
    "\n",
    "result = run_reasoning(\"causal\", facts=facts, observations=observations)\n",
    "\n",
    "print(\"Causal Reasoning Result:\")\n",
    "print(f\"Causal Chain: {result['conclusions']}\")\n",
    "print(f\"\\nExplanation: {result['explanation']}\")"
   ]
  },
  {
   "cell_type": "markdown",
   "metadata": {},
   "source": [
    "## Example 6: Command-Line Usage\n",
    "\n",
    "REP can be used directly from the command line."
   ]
  },
  {
   "cell_type": "code",
   "execution_count": null,
   "metadata": {},
   "outputs": [],
   "source": [
    "# Using command line with JSON input\n",
    "!python ../code/tools/run_rep_tool.py --reasoning-type deductive \\\n",
    "    --facts \"All birds have feathers\" \"Penguins are birds\" \\\n",
    "    --rules '[[\"All birds have feathers\", \"Penguins are birds\"], \"Penguins have feathers\"]'"
   ]
  },
  {
   "cell_type": "markdown",
   "metadata": {},
   "source": [
    "## Example 7: Complex Multi-Step Reasoning\n",
    "\n",
    "Combining multiple reasoning types for complex problem-solving."
   ]
  },
  {
   "cell_type": "code",
   "execution_count": null,
   "metadata": {},
   "outputs": [],
   "source": [
    "# Step 1: Inductive reasoning to identify pattern\n",
    "observations = [\n",
    "    \"User A clicked ad after seeing it 3 times\",\n",
    "    \"User B clicked ad after seeing it 3 times\",\n",
    "    \"User C clicked ad after seeing it 4 times\"\n",
    "]\n",
    "\n",
    "inductive_result = run_reasoning(\"inductive\", observations=observations)\n",
    "print(\"Step 1 - Inductive Pattern:\")\n",
    "print(f\"  {inductive_result['conclusions']}\\n\")\n",
    "\n",
    "# Step 2: Deductive reasoning to apply pattern\n",
    "facts = [\n",
    "    \"User D has seen the ad 3 times\",\n",
    "    \"Users typically click after 3-4 exposures\"\n",
    "]\n",
    "\n",
    "rules = [\n",
    "    [[\"User D has seen the ad 3 times\", \"Users typically click after 3-4 exposures\"], \n",
    "     \"User D is likely to click on next exposure\"]\n",
    "]\n",
    "\n",
    "deductive_result = run_reasoning(\"deductive\", facts=facts, rules=rules)\n",
    "print(\"Step 2 - Deductive Application:\")\n",
    "print(f\"  {deductive_result['conclusions']}\")"
   ]
  },
  {
   "cell_type": "markdown",
   "metadata": {},
   "source": [
    "## Example 8: Integration with File Input\n",
    "\n",
    "REP can read reasoning problems from JSON files."
   ]
  },
  {
   "cell_type": "code",
   "execution_count": null,
   "metadata": {},
   "outputs": [],
   "source": [
    "# Create a reasoning input file\n",
    "reasoning_input = {\n",
    "    \"reasoning_type\": \"deductive\",\n",
    "    \"facts\": [\n",
    "        \"All mammals are warm-blooded\",\n",
    "        \"Whales are mammals\"\n",
    "    ],\n",
    "    \"rules\": [\n",
    "        [[\"All mammals are warm-blooded\", \"Whales are mammals\"], \"Whales are warm-blooded\"]\n",
    "    ]\n",
    "}\n",
    "\n",
    "# Save to file\n",
    "with open('/tmp/reasoning_input.json', 'w') as f:\n",
    "    json.dump(reasoning_input, f, indent=2)\n",
    "\n",
    "# Run from file\n",
    "!python ../code/tools/run_rep_tool.py --file /tmp/reasoning_input.json"
   ]
  },
  {
   "cell_type": "markdown",
   "metadata": {},
   "source": [
    "## Example 9: Reasoning with Confidence Scoring\n",
    "\n",
    "Understanding confidence scores in reasoning outputs."
   ]
  },
  {
   "cell_type": "code",
   "execution_count": null,
   "metadata": {},
   "outputs": [],
   "source": [
    "# Reasoning with varying levels of certainty\n",
    "observations = [\n",
    "    \"The ground is wet\",\n",
    "    \"The sky is cloudy\"\n",
    "]\n",
    "\n",
    "hypotheses = [\n",
    "    \"It rained recently\",\n",
    "    \"Sprinklers were on\",\n",
    "    \"Someone washed their car\"\n",
    "]\n",
    "\n",
    "result = run_reasoning(\"abductive\", observations=observations, hypotheses=hypotheses)\n",
    "\n",
    "print(\"Reasoning with Confidence Scores:\")\n",
    "print(f\"\\nBest Explanation: {result['conclusions'][0]}\")\n",
    "print(f\"\\nAll Hypotheses Ranked:\")\n",
    "if 'confidence_scores' in result:\n",
    "    sorted_hyps = sorted(result['confidence_scores'].items(), key=lambda x: x[1], reverse=True)\n",
    "    for i, (hyp, score) in enumerate(sorted_hyps, 1):\n",
    "        print(f\"  {i}. {hyp}: {score:.1%}\")"
   ]
  },
  {
   "cell_type": "markdown",
   "metadata": {},
   "source": [
    "## Example 10: Reasoning Chain Inspection\n",
    "\n",
    "Examining the step-by-step reasoning process."
   ]
  },
  {
   "cell_type": "code",
   "execution_count": null,
   "metadata": {},
   "outputs": [],
   "source": [
    "facts = [\n",
    "    \"All humans are mortal\",\n",
    "    \"Socrates is human\"\n",
    "]\n",
    "\n",
    "rules = [\n",
    "    [[\"All humans are mortal\", \"Socrates is human\"], \"Socrates is mortal\"]\n",
    "]\n",
    "\n",
    "result = run_reasoning(\"deductive\", facts=facts, rules=rules)\n",
    "\n",
    "print(\"Reasoning Chain Inspection:\")\n",
    "if 'reasoning_chain' in result:\n",
    "    print(\"\\nStep-by-step process:\")\n",
    "    for i, step in enumerate(result['reasoning_chain'], 1):\n",
    "        print(f\"  Step {i}: {step}\")\n",
    "\n",
    "print(f\"\\nFinal Conclusion: {result['conclusions'][0]}\")"
   ]
  },
  {
   "cell_type": "markdown",
   "metadata": {},
   "source": [
    "## Conclusion\n",
    "\n",
    "The REP tool provides powerful multi-modal reasoning capabilities. Key takeaways:\n",
    "\n",
    "- **Deductive**: Use for logical inference from known facts\n",
    "- **Inductive**: Use for pattern recognition and generalization\n",
    "- **Abductive**: Use for finding best explanations\n",
    "- **Analogical**: Use for similarity-based reasoning\n",
    "- **Causal**: Use for cause-effect analysis\n",
    "\n",
    "## Next Steps\n",
    "\n",
    "- Combine REP with VVP (Validation) for verified reasoning\n",
    "- Use REP with Five Laws Validator for governed reasoning\n",
    "- Explore ESL (Emotional State Layer) for emotion-aware reasoning\n",
    "- Read the full documentation at [PAPER2AGENT_INTEGRATION.md](../PAPER2AGENT_INTEGRATION.md)"
   ]
  }
 ],
 "metadata": {
  "kernelspec": {
   "display_name": "Python 3",
   "language": "python",
   "name": "python3"
  },
  "language_info": {
   "codemirror_mode": {
    "name": "ipython",
    "version": 3
   },
   "file_extension": ".py",
   "mimetype": "text/x-python",
   "name": "python",
   "nbconvert_exporter": "python",
   "pygments_lexer": "ipython3",
   "version": "3.9.0"
  }
 },
 "nbformat": 4,
 "nbformat_minor": 4
}