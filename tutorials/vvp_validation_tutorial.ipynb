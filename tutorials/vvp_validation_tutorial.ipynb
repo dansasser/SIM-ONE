{
 "cells": [
  {
   "cell_type": "markdown",
   "metadata": {},
   "source": [
    "# VVP - Validation and Verification Protocol Tutorial\n",
    "\n",
    "This tutorial demonstrates how to use the VVP (Validation and Verification Protocol) tool for input validation and logical structure verification.\n",
    "\n",
    "## Overview\n",
    "\n",
    "VVP provides:\n",
    "- **Input validation** - Verify data format and structure\n",
    "- **Rule validation** - Check logical rule structures\n",
    "- **Pre-execution verification** - Ensure data integrity before processing\n",
    "- **Format compliance** - Validate against expected schemas\n",
    "\n",
    "VVP is typically used **before** other protocols (like REP) to ensure inputs are well-formed."
   ]
  },
  {
   "cell_type": "markdown",
   "metadata": {},
   "source": [
    "## Setup"
   ]
  },
  {
   "cell_type": "code",
   "execution_count": null,
   "metadata": {},
   "outputs": [],
   "source": [
    "import subprocess\n",
    "import json\n",
    "from pathlib import Path\n",
    "\n",
    "TOOL_PATH = Path(\"../code/tools/run_vvp_tool.py\")\n",
    "\n",
    "def validate_input(data):\n",
    "    \"\"\"Helper function to validate input data\"\"\"\n",
    "    result = subprocess.run(\n",
    "        [\"python\", str(TOOL_PATH), \"--json\", json.dumps(data)],\n",
    "        capture_output=True,\n",
    "        text=True\n",
    "    )\n",
    "    return json.loads(result.stdout)"
   ]
  },
  {
   "cell_type": "markdown",
   "metadata": {},
   "source": [
    "## Example 1: Basic Rule Validation\n",
    "\n",
    "Validating a simple rule structure."
   ]
  },
  {
   "cell_type": "code",
   "execution_count": null,
   "metadata": {},
   "outputs": [],
   "source": [
    "# Valid rule structure\n",
    "data = {\n",
    "    \"rules\": [\n",
    "        [[\"premise1\", \"premise2\"], \"conclusion\"]\n",
    "    ]\n",
    "}\n",
    "\n",
    "result = validate_input(data)\n",
    "\n",
    "print(f\"Validation Status: {result['validation_status']}\")\n",
    "print(f\"Reason: {result['reason']}\")"
   ]
  },
  {
   "cell_type": "markdown",
   "metadata": {},
   "source": [
    "## Example 2: Multiple Rules Validation\n",
    "\n",
    "Validating multiple rule structures at once."
   ]
  },
  {
   "cell_type": "code",
   "execution_count": null,
   "metadata": {},
   "outputs": [],
   "source": [
    "# Multiple valid rules\n",
    "data = {\n",
    "    \"rules\": [\n",
    "        [[\"All humans are mortal\", \"Socrates is human\"], \"Socrates is mortal\"],\n",
    "        [[\"All birds have feathers\", \"Penguins are birds\"], \"Penguins have feathers\"],\n",
    "        [[\"If it rains, the ground gets wet\", \"It is raining\"], \"The ground is wet\"]\n",
    "    ]\n",
    "}\n",
    "\n",
    "result = validate_input(data)\n",
    "\n",
    "print(f\"Validation Status: {result['validation_status']}\")\n",
    "print(f\"Reason: {result['reason']}\")"
   ]
  },
  {
   "cell_type": "markdown",
   "metadata": {},
   "source": [
    "## Example 3: Detecting Invalid Rule Structures\n",
    "\n",
    "VVP will catch malformed rules."
   ]
  },
  {
   "cell_type": "code",
   "execution_count": null,
   "metadata": {},
   "outputs": [],
   "source": [
    "# Invalid rule structure (missing conclusion)\n",
    "invalid_data = {\n",
    "    \"rules\": [\n",
    "        [[\"premise1\", \"premise2\"]]  # Missing conclusion\n",
    "    ]\n",
    "}\n",
    "\n",
    "result = validate_input(invalid_data)\n",
    "\n",
    "print(f\"Validation Status: {result['validation_status']}\")\n",
    "print(f\"Reason: {result['reason']}\")"
   ]
  },
  {
   "cell_type": "markdown",
   "metadata": {},
   "source": [
    "## Example 4: Empty Rules Validation\n",
    "\n",
    "Handling edge cases like empty rule sets."
   ]
  },
  {
   "cell_type": "code",
   "execution_count": null,
   "metadata": {},
   "outputs": [],
   "source": [
    "# Empty rules\n",
    "data = {\n",
    "    \"rules\": []\n",
    "}\n",
    "\n",
    "result = validate_input(data)\n",
    "\n",
    "print(f\"Validation Status: {result['validation_status']}\")\n",
    "print(f\"Reason: {result['reason']}\")"
   ]
  },
  {
   "cell_type": "markdown",
   "metadata": {},
   "source": [
    "## Example 5: Pre-Reasoning Validation Pipeline\n",
    "\n",
    "Using VVP before REP to ensure valid inputs."
   ]
  },
  {
   "cell_type": "code",
   "execution_count": null,
   "metadata": {},
   "outputs": [],
   "source": [
    "# Reasoning data to validate\n",
    "reasoning_data = {\n",
    "    \"reasoning_type\": \"deductive\",\n",
    "    \"facts\": [\n",
    "        \"All mammals are warm-blooded\",\n",
    "        \"Whales are mammals\"\n",
    "    ],\n",
    "    \"rules\": [\n",
    "        [[\"All mammals are warm-blooded\", \"Whales are mammals\"], \"Whales are warm-blooded\"]\n",
    "    ]\n",
    "}\n",
    "\n",
    "# Step 1: Validate with VVP\n",
    "print(\"Step 1: Validating input structure...\")\n",
    "validation_result = validate_input({\"rules\": reasoning_data[\"rules\"]})\n",
    "print(f\"  Status: {validation_result['validation_status']}\")\n",
    "\n",
    "# Step 2: If valid, proceed to reasoning\n",
    "if validation_result['validation_status'] == 'success':\n",
    "    print(\"\\nStep 2: Input validated. Ready for reasoning.\")\n",
    "    print(\"  (Would now pass to REP tool for actual reasoning)\")\n",
    "else:\n",
    "    print(f\"\\nStep 2: Validation failed. Cannot proceed.\")\n",
    "    print(f\"  Reason: {validation_result['reason']}\")"
   ]
  },
  {
   "cell_type": "markdown",
   "metadata": {},
   "source": [
    "## Example 6: Batch Validation\n",
    "\n",
    "Validating multiple datasets in sequence."
   ]
  },
  {
   "cell_type": "code",
   "execution_count": null,
   "metadata": {},
   "outputs": [],
   "source": [
    "# Multiple datasets to validate\n",
    "datasets = [\n",
    "    {\n",
    "        \"name\": \"Dataset 1\",\n",
    "        \"rules\": [[[\"a\", \"b\"], \"c\"]]\n",
    "    },\n",
    "    {\n",
    "        \"name\": \"Dataset 2\",\n",
    "        \"rules\": [[[\"x\"], \"y\"], [[\"y\", \"z\"], \"w\"]]\n",
    "    },\n",
    "    {\n",
    "        \"name\": \"Dataset 3 (invalid)\",\n",
    "        \"rules\": [[[\"invalid\"]]]  # Missing conclusion\n",
    "    }\n",
    "]\n",
    "\n",
    "print(\"Batch Validation Results:\\n\")\n",
    "for dataset in datasets:\n",
    "    result = validate_input({\"rules\": dataset[\"rules\"]})\n",
    "    status_icon = \"✓\" if result['validation_status'] == 'success' else \"✗\"\n",
    "    print(f\"{status_icon} {dataset['name']}: {result['validation_status']}\")\n",
    "    if result['validation_status'] != 'success':\n",
    "        print(f\"    Reason: {result['reason']}\")"
   ]
  },
  {
   "cell_type": "markdown",
   "metadata": {},
   "source": [
    "## Example 7: Command-Line Usage\n",
    "\n",
    "VVP can be used directly from the command line."
   ]
  },
  {
   "cell_type": "code",
   "execution_count": null,
   "metadata": {},
   "outputs": [],
   "source": [
    "# Using command line with JSON input\n",
    "!python ../code/tools/run_vvp_tool.py --json '{\"rules\": [[[\"premise1\", \"premise2\"], \"conclusion\"]]}'"
   ]
  },
  {
   "cell_type": "markdown",
   "metadata": {},
   "source": [
    "## Example 8: File Input Validation\n",
    "\n",
    "Validating data from JSON files."
   ]
  },
  {
   "cell_type": "code",
   "execution_count": null,
   "metadata": {},
   "outputs": [],
   "source": [
    "# Create a validation input file\n",
    "validation_input = {\n",
    "    \"rules\": [\n",
    "        [[\"All dogs are animals\", \"Rex is a dog\"], \"Rex is an animal\"],\n",
    "        [[\"All animals need food\", \"Rex is an animal\"], \"Rex needs food\"]\n",
    "    ]\n",
    "}\n",
    "\n",
    "with open('/tmp/validation_input.json', 'w') as f:\n",
    "    json.dump(validation_input, f, indent=2)\n",
    "\n",
    "# Validate from file\n",
    "!python ../code/tools/run_vvp_tool.py --file /tmp/validation_input.json"
   ]
  },
  {
   "cell_type": "markdown",
   "metadata": {},
   "source": [
    "## Example 9: Integration with Error Handling\n",
    "\n",
    "Building robust pipelines with validation."
   ]
  },
  {
   "cell_type": "code",
   "execution_count": null,
   "metadata": {},
   "outputs": [],
   "source": [
    "def safe_reasoning_pipeline(reasoning_data):\n",
    "    \"\"\"\n",
    "    Safely execute reasoning with pre-validation\n",
    "    \"\"\"\n",
    "    print(\"Starting Safe Reasoning Pipeline...\\n\")\n",
    "    \n",
    "    # Extract rules for validation\n",
    "    if 'rules' not in reasoning_data:\n",
    "        print(\"❌ Error: No rules provided\")\n",
    "        return None\n",
    "    \n",
    "    # Step 1: Validate\n",
    "    print(\"Step 1: Validating input structure...\")\n",
    "    validation_result = validate_input({\"rules\": reasoning_data[\"rules\"]})\n",
    "    \n",
    "    if validation_result['validation_status'] != 'success':\n",
    "        print(f\"❌ Validation Failed: {validation_result['reason']}\")\n",
    "        return None\n",
    "    \n",
    "    print(\"✓ Validation passed\\n\")\n",
    "    \n",
    "    # Step 2: Execute reasoning (simulated)\n",
    "    print(\"Step 2: Executing reasoning...\")\n",
    "    print(\"✓ Reasoning completed\\n\")\n",
    "    \n",
    "    return {\"status\": \"success\", \"message\": \"Pipeline completed successfully\"}\n",
    "\n",
    "# Test with valid data\n",
    "valid_data = {\n",
    "    \"reasoning_type\": \"deductive\",\n",
    "    \"facts\": [\"fact1\", \"fact2\"],\n",
    "    \"rules\": [[[\"fact1\", \"fact2\"], \"conclusion\"]]\n",
    "}\n",
    "\n",
    "result = safe_reasoning_pipeline(valid_data)\n",
    "print(f\"Final Result: {result}\")"
   ]
  },
  {
   "cell_type": "markdown",
   "metadata": {},
   "source": [
    "## Example 10: Complex Rule Structure Validation\n",
    "\n",
    "Validating more complex logical structures."
   ]
  },
  {
   "cell_type": "code",
   "execution_count": null,
   "metadata": {},
   "outputs": [],
   "source": [
    "# Complex nested reasoning rules\n",
    "complex_data = {\n",
    "    \"rules\": [\n",
    "        # Rule 1: Simple modus ponens\n",
    "        [[\"If P then Q\", \"P\"], \"Q\"],\n",
    "        \n",
    "        # Rule 2: Chained inference\n",
    "        [[\"Q\", \"If Q then R\"], \"R\"],\n",
    "        \n",
    "        # Rule 3: Multiple premises\n",
    "        [[\"R\", \"S\", \"If R and S then T\"], \"T\"]\n",
    "    ]\n",
    "}\n",
    "\n",
    "result = validate_input(complex_data)\n",
    "\n",
    "print(f\"Complex Structure Validation:\")\n",
    "print(f\"  Status: {result['validation_status']}\")\n",
    "print(f\"  Reason: {result['reason']}\")\n",
    "print(f\"  Rules Validated: {len(complex_data['rules'])}\")"
   ]
  },
  {
   "cell_type": "markdown",
   "metadata": {},
   "source": [
    "## Example 11: Stdin Pipe Usage\n",
    "\n",
    "Using VVP in Unix pipelines."
   ]
  },
  {
   "cell_type": "code",
   "execution_count": null,
   "metadata": {},
   "outputs": [],
   "source": [
    "# Using stdin pipe\n",
    "!echo '{\"rules\": [[[\"a\", \"b\"], \"c\"]]}' | python ../code/tools/run_vvp_tool.py"
   ]
  },
  {
   "cell_type": "markdown",
   "metadata": {},
   "source": [
    "## Example 12: Full Validation + Reasoning Workflow\n",
    "\n",
    "Complete example showing VVP → REP integration."
   ]
  },
  {
   "cell_type": "code",
   "execution_count": null,
   "metadata": {},
   "outputs": [],
   "source": [
    "import subprocess\n",
    "\n",
    "# Reasoning data\n",
    "reasoning_data = {\n",
    "    \"reasoning_type\": \"deductive\",\n",
    "    \"facts\": [\n",
    "        \"All planets orbit stars\",\n",
    "        \"Earth is a planet\"\n",
    "    ],\n",
    "    \"rules\": [\n",
    "        [[\"All planets orbit stars\", \"Earth is a planet\"], \"Earth orbits a star\"]\n",
    "    ]\n",
    "}\n",
    "\n",
    "print(\"=\" * 60)\n",
    "print(\"COMPLETE VALIDATION + REASONING WORKFLOW\")\n",
    "print(\"=\" * 60)\n",
    "\n",
    "# Phase 1: Validate with VVP\n",
    "print(\"\\n[PHASE 1: VALIDATION]\")\n",
    "validation_result = validate_input({\"rules\": reasoning_data[\"rules\"]})\n",
    "print(f\"Status: {validation_result['validation_status']}\")\n",
    "print(f\"Details: {validation_result['reason']}\")\n",
    "\n",
    "# Phase 2: Execute reasoning if validation passed\n",
    "if validation_result['validation_status'] == 'success':\n",
    "    print(\"\\n[PHASE 2: REASONING]\")\n",
    "    print(\"Validation passed. Executing REP...\")\n",
    "    \n",
    "    rep_result = subprocess.run(\n",
    "        [\"python\", \"../code/tools/run_rep_tool.py\", \"--json\", json.dumps(reasoning_data)],\n",
    "        capture_output=True,\n",
    "        text=True\n",
    "    )\n",
    "    \n",
    "    if rep_result.returncode == 0:\n",
    "        rep_output = json.loads(rep_result.stdout)\n",
    "        print(f\"Reasoning Type: {rep_output['reasoning_type']}\")\n",
    "        print(f\"Conclusions: {rep_output['conclusions']}\")\n",
    "        print(f\"\\n✓ Workflow completed successfully\")\n",
    "    else:\n",
    "        print(f\"❌ Reasoning failed: {rep_result.stderr}\")\n",
    "else:\n",
    "    print(\"\\n[PHASE 2: SKIPPED]\")\n",
    "    print(\"❌ Validation failed. Cannot proceed to reasoning.\")\n",
    "\n",
    "print(\"\\n\" + \"=\" * 60)"
   ]
  },
  {
   "cell_type": "markdown",
   "metadata": {},
   "source": [
    "## Conclusion\n",
    "\n",
    "The VVP tool provides essential validation capabilities for cognitive workflows. Key takeaways:\n",
    "\n",
    "- **Pre-execution validation**: Always validate before processing\n",
    "- **Error prevention**: Catch malformed inputs early\n",
    "- **Pipeline integration**: Use as first step in reasoning workflows\n",
    "- **Format compliance**: Ensure data meets expected schemas\n",
    "- **Composability**: Easily chain with other protocols\n",
    "\n",
    "## Best Practices\n",
    "\n",
    "1. **Always validate before reasoning**: Use VVP before REP\n",
    "2. **Handle validation failures gracefully**: Check status before proceeding\n",
    "3. **Batch validate**: Validate multiple inputs efficiently\n",
    "4. **Log validation results**: Track validation failures for debugging\n",
    "5. **Use in CI/CD**: Validate data in automated pipelines\n",
    "\n",
    "## Next Steps\n",
    "\n",
    "- Combine VVP with REP for validated reasoning\n",
    "- Use VVP with Five Laws Validator for complete governance\n",
    "- Explore ESL for emotional validation\n",
    "- Read the full documentation at [PAPER2AGENT_INTEGRATION.md](../PAPER2AGENT_INTEGRATION.md)"
   ]
  }
 ],
 "metadata": {
  "kernelspec": {
   "display_name": "Python 3",
   "language": "python",
   "name": "python3"
  },
  "language_info": {
   "codemirror_mode": {
    "name": "ipython",
    "version": 3
   },
   "file_extension": ".py",
   "mimetype": "text/x-python",
   "name": "python",
   "nbconvert_exporter": "python",
   "pygments_lexer": "ipython3",
   "version": "3.9.0"
  }
 },
 "nbformat": 4,
 "nbformat_minor": 4
}

